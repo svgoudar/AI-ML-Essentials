{
 "cells": [
  {
   "cell_type": "markdown",
   "id": "602e18be",
   "metadata": {},
   "source": [
    "```{contents}\n",
    "```"
   ]
  },
  {
   "cell_type": "markdown",
   "id": "f5a92195",
   "metadata": {},
   "source": [
    "# Handle Underfitting/Overfitting\n",
    "\n",
    "## Handling Overfitting in DTC\n",
    "\n",
    "1. **Pre-pruning (Early Stopping)**\n",
    "\n",
    "   * Limit tree complexity:\n",
    "\n",
    "     * `max_depth` → limit depth of the tree\n",
    "     * `min_samples_split` → require more samples to split\n",
    "     * `min_samples_leaf` → require more samples per leaf\n",
    "     * `max_leaf_nodes` → restrict number of leaves\n",
    "\n",
    "   ```python\n",
    "   DecisionTreeClassifier(max_depth=5, min_samples_leaf=4)\n",
    "   ```\n",
    "\n",
    "2. **Post-pruning (Cost Complexity Pruning)**\n",
    "\n",
    "   * Use `ccp_alpha` to prune weak branches.\n",
    "\n",
    "   ```python\n",
    "   DecisionTreeClassifier(ccp_alpha=0.01)\n",
    "   ```\n",
    "\n",
    "3. **Reduce Noise in Data**\n",
    "\n",
    "   * Clean data, remove irrelevant features.\n",
    "\n",
    "4. **Use Ensemble Methods**\n",
    "\n",
    "   * Random Forests, Gradient Boosting (combine multiple trees).\n",
    "\n",
    "---\n",
    "\n",
    "## Handling Underfitting in DTC\n",
    "\n",
    "1. **Allow More Complexity**\n",
    "\n",
    "   * Increase depth & allow smaller splits:\n",
    "\n",
    "   ```python\n",
    "   DecisionTreeClassifier(max_depth=None, min_samples_split=2, min_samples_leaf=1)\n",
    "   ```\n",
    "\n",
    "2. **Reduce Pruning Strength**\n",
    "\n",
    "   * Use smaller `ccp_alpha` (closer to 0).\n",
    "\n",
    "3. **Feature Engineering**\n",
    "\n",
    "   * Add better features, encode categorical variables, transformations.\n",
    "\n",
    "4. **Check Data Quality**\n",
    "\n",
    "   * Underfitting often means the features don’t explain the target well → improve dataset.\n",
    "\n",
    "---\n",
    "\n",
    "**Key Takeaway**\n",
    "\n",
    "* **Overfitting** → model too complex → **simplify the tree**.\n",
    "* **Underfitting** → model too simple → **allow more complexity**.\n",
    "* Best practice: Use **cross-validation** + **hyperparameter tuning** (`GridSearchCV`) to find the sweet spot.\n",
    "\n",
    "\n",
    "**Overfitting vs Underfitting in DTC**\n",
    "\n",
    "| Case                | What Happens                                     | Symptoms                                              | Model Behavior      |\n",
    "| ------------------- | ------------------------------------------------ | ----------------------------------------------------- | ------------------- |\n",
    "| **Overfitting** 🌳  | Tree is **too complex**, memorizes training data | Very high training accuracy, much lower test accuracy | Poor generalization |\n",
    "| **Underfitting** 🌱 | Tree is **too simple**, can’t capture patterns   | Both training & test accuracy are low                 | Model is too weak   |\n",
    "\n",
    "---\n"
   ]
  },
  {
   "cell_type": "code",
   "execution_count": null,
   "id": "0300c9ff",
   "metadata": {},
   "outputs": [
    {
     "name": "stdout",
     "output_type": "stream",
     "text": [
      "=== Decision Tree Performance ===\n",
      "Underfitting (max_depth=1) → Train: 0.648, Test: 0.711\n",
      "Overfitting (max_depth=None) → Train: 1.000, Test: 1.000\n",
      "Balanced (max_depth=3) → Train: 0.952, Test: 1.000\n"
     ]
    },
    {
     "data": {
      "image/png": "[encoded data removed]",
      "text/plain": [
       "<Figure size 700x500 with 1 Axes>"
      ]
     },
     "metadata": {},
     "output_type": "display_data"
    },
    {
     "ename": "",
     "evalue": "",
     "output_type": "error",
     "traceback": [
      "\u001b[1;31mThe Kernel crashed while executing code in the current cell or a previous cell. \n",
      "\u001b[1;31mPlease review the code in the cell(s) to identify a possible cause of the failure. \n",
      "\u001b[1;31mClick <a href='https://aka.ms/vscodeJupyterKernelCrash'>here</a> for more info. \n",
      "\u001b[1;31mView Jupyter <a href='command:jupyter.viewOutput'>log</a> for further details."
     ]
    }
   ],
   "source": [
    "import matplotlib.pyplot as plt\n",
    "from sklearn.datasets import load_iris\n",
    "from sklearn.model_selection import train_test_split\n",
    "from sklearn.tree import DecisionTreeClassifier\n",
    "from sklearn.metrics import accuracy_score\n",
    "\n",
    "# Load dataset\n",
    "X, y = load_iris(return_X_y=True)\n",
    "X_train, X_test, y_train, y_test = train_test_split(X, y, test_size=0.3, random_state=42)\n",
    "\n",
    "# Case 1: Underfitting (shallow tree)\n",
    "dt_underfit = DecisionTreeClassifier(max_depth=1, random_state=42)\n",
    "dt_underfit.fit(X_train, y_train)\n",
    "train_acc_underfit = accuracy_score(y_train, dt_underfit.predict(X_train))\n",
    "test_acc_underfit = accuracy_score(y_test, dt_underfit.predict(X_test))\n",
    "\n",
    "# Case 2: Overfitting (deep tree, no restriction)\n",
    "dt_overfit = DecisionTreeClassifier(max_depth=None, random_state=42)\n",
    "dt_overfit.fit(X_train, y_train)\n",
    "train_acc_overfit = accuracy_score(y_train, dt_overfit.predict(X_train))\n",
    "test_acc_overfit = accuracy_score(y_test, dt_overfit.predict(X_test))\n",
    "\n",
    "# Case 3: Balanced tree (tuned)\n",
    "dt_balanced = DecisionTreeClassifier(max_depth=3, random_state=42)\n",
    "dt_balanced.fit(X_train, y_train)\n",
    "train_acc_balanced = accuracy_score(y_train, dt_balanced.predict(X_train))\n",
    "test_acc_balanced = accuracy_score(y_test, dt_balanced.predict(X_test))\n",
    "\n",
    "# Print results\n",
    "print(\"=== Decision Tree Performance ===\")\n",
    "print(f\"Underfitting (max_depth=1) → Train: {train_acc_underfit:.3f}, Test: {test_acc_underfit:.3f}\")\n",
    "print(f\"Overfitting (max_depth=None) → Train: {train_acc_overfit:.3f}, Test: {test_acc_overfit:.3f}\")\n",
    "print(f\"Balanced (max_depth=3) → Train: {train_acc_balanced:.3f}, Test: {test_acc_balanced:.3f}\")\n",
    "\n",
    "# Plot results\n",
    "labels = [\"Underfitting\", \"Overfitting\", \"Balanced\"]\n",
    "train_scores = [train_acc_underfit, train_acc_overfit, train_acc_balanced]\n",
    "test_scores = [test_acc_underfit, test_acc_overfit, test_acc_balanced]\n",
    "\n",
    "x = range(len(labels))\n",
    "plt.figure(figsize=(7,5))\n",
    "plt.bar(x, train_scores, width=0.4, label=\"Train Accuracy\", align=\"center\")\n",
    "plt.bar([i + 0.4 for i in x], test_scores, width=0.4, label=\"Test Accuracy\", align=\"center\")\n",
    "plt.xticks([i + 0.2 for i in x], labels)\n",
    "plt.ylabel(\"Accuracy\")\n",
    "plt.title(\"Underfitting vs Overfitting vs Balanced Decision Tree\")\n",
    "plt.legend()\n",
    "plt.ylim(0, 1.05)\n",
    "plt.show()\n"
   ]
  },
  {
   "cell_type": "code",
   "execution_count": null,
   "id": "c41e0b36",
   "metadata": {},
   "outputs": [],
   "source": []
  }
 ],
 "metadata": {
  "kernelspec": {
   "display_name": "Python 3",
   "language": "python",
   "name": "python3"
  },
  "language_info": {
   "codemirror_mode": {
    "name": "ipython",
    "version": 3
   },
   "file_extension": ".py",
   "mimetype": "text/x-python",
   "name": "python",
   "nbconvert_exporter": "python",
   "pygments_lexer": "ipython3",
   "version": "3.12.0"
  }
 },
 "nbformat": 4,
 "nbformat_minor": 5
}
