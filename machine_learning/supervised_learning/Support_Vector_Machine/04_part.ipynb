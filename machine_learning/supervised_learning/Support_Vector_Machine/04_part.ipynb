{
 "cells": [
  {
   "cell_type": "markdown",
   "id": "1d7678a6",
   "metadata": {},
   "source": [
    "```{contents}\n",
    "```"
   ]
  },
  {
   "cell_type": "markdown",
   "id": "f29da10a",
   "metadata": {},
   "source": [
    "## Workflows\n",
    "\n",
    "1. **Data Preparation**\n",
    "\n",
    "   * Collect labeled data $(x_i, y_i)$ with $y_i \\in \\{-1, +1\\}$ for binary classification.\n",
    "   * Scale/normalize features since SVM relies on distance measures.\n",
    "   * Handle imbalance (e.g., stratified sampling, class weights).\n",
    "\n",
    "2. **Model Selection**\n",
    "\n",
    "   * Choose **linear SVM** if data is (almost) linearly separable.\n",
    "   * Use **kernel SVM** (RBF, polynomial) for non-linear patterns.\n",
    "   * Decide between **hard margin (large C)** or **soft margin (small C)** depending on noise.\n",
    "\n",
    "3. **Training (Optimization)**\n",
    "\n",
    "   * Solve convex optimization:\n",
    "\n",
    "     $$\n",
    "     \\min_{w,b,\\xi} \\; \\frac{1}{2}\\|w\\|^2 + C\\sum_i \\xi_i\n",
    "     $$\n",
    "\n",
    "     subject to margin constraints.\n",
    "   * Identify **support vectors**, points that lie on the margin or violate it.\n",
    "\n",
    "4. **Prediction**\n",
    "\n",
    "   * Compute decision function:\n",
    "      \n",
    "\n",
    "     $$\n",
    "     f(x) = \\text{sign}\\Big(\\sum_{i} \\alpha_i y_i K(x_i, x) + b\\Big)\n",
    "     $$ \n",
    "\n",
    "   * Predict class based on sign of the decision value.\n",
    "  \n",
    "$$\n",
    "\\text{sign}(z) = \n",
    "\\begin{cases} \n",
    "+1 & \\text{if } z > 0 \\\\\n",
    "-1 & \\text{if } z < 0 \\\\\n",
    "0 & \\text{if } z = 0\n",
    "\\end{cases}\n",
    "$$"
   ]
  },
  {
   "cell_type": "markdown",
   "id": "1ee3771b",
   "metadata": {},
   "source": [
    "\n",
    "5. **Model Evaluation**\n",
    "\n",
    "   * Use cross-validation to estimate performance.\n",
    "   * Metrics: accuracy, precision, recall, F1, ROC-AUC depending on task.\n",
    "\n",
    "6. **Hyperparameter Tuning**\n",
    "\n",
    "   * Parameters:\n",
    "\n",
    "     * **C**: margin vs. misclassification trade-off.\n",
    "     * **γ (gamma)**: influence of single points in RBF.\n",
    "     * **degree**: for polynomial kernels.\n",
    "   * Tune via GridSearchCV or RandomizedSearchCV.\n",
    "\n",
    "7. **Deployment**\n",
    "\n",
    "   * Use trained model to classify unseen data.\n",
    "   * Re-train periodically if data distribution shifts.\n"
   ]
  },
  {
   "cell_type": "markdown",
   "id": "287290f8",
   "metadata": {},
   "source": [
    "### Demonstration"
   ]
  },
  {
   "cell_type": "code",
   "execution_count": 4,
   "id": "353b79ae",
   "metadata": {},
   "outputs": [
    {
     "name": "stdout",
     "output_type": "stream",
     "text": [
      "Baseline Linear SVM Classification Report:\n",
      "               precision    recall  f1-score   support\n",
      "\n",
      "           0       0.87      0.94      0.90        89\n",
      "           1       0.91      0.79      0.84        61\n",
      "\n",
      "    accuracy                           0.88       150\n",
      "   macro avg       0.89      0.87      0.87       150\n",
      "weighted avg       0.88      0.88      0.88       150\n",
      "\n",
      "Best RBF SVM Classification Report:\n",
      "               precision    recall  f1-score   support\n",
      "\n",
      "           0       0.92      0.99      0.95        89\n",
      "           1       0.98      0.87      0.92        61\n",
      "\n",
      "    accuracy                           0.94       150\n",
      "   macro avg       0.95      0.93      0.94       150\n",
      "weighted avg       0.94      0.94      0.94       150\n",
      "\n",
      "Confusion Matrix (Baseline):\n",
      " [[84  5]\n",
      " [13 48]]\n",
      "Confusion Matrix (Best RBF):\n",
      " [[88  1]\n",
      " [ 8 53]]\n"
     ]
    },
    {
     "data": {
      "application/vnd.microsoft.datawrangler.viewer.v0+json": {
       "columns": [
        {
         "name": "index",
         "rawType": "int64",
         "type": "integer"
        },
        {
         "name": "Model",
         "rawType": "object",
         "type": "string"
        },
        {
         "name": "Accuracy",
         "rawType": "float64",
         "type": "float"
        },
        {
         "name": "Best Params",
         "rawType": "object",
         "type": "unknown"
        }
       ],
       "ref": "1c1fa605-f96b-4746-99b8-07aae5def815",
       "rows": [
        [
         "0",
         "Linear SVM",
         "0.88",
         null
        ],
        [
         "1",
         "Best RBF SVM",
         "0.94",
         "{'C': 10, 'gamma': 0.1}"
        ]
       ],
       "shape": {
        "columns": 3,
        "rows": 2
       }
      },
      "text/html": [
       "<div>\n",
       "<style scoped>\n",
       "    .dataframe tbody tr th:only-of-type {\n",
       "        vertical-align: middle;\n",
       "    }\n",
       "\n",
       "    .dataframe tbody tr th {\n",
       "        vertical-align: top;\n",
       "    }\n",
       "\n",
       "    .dataframe thead th {\n",
       "        text-align: right;\n",
       "    }\n",
       "</style>\n",
       "<table border=\"1\" class=\"dataframe\">\n",
       "  <thead>\n",
       "    <tr style=\"text-align: right;\">\n",
       "      <th></th>\n",
       "      <th>Model</th>\n",
       "      <th>Accuracy</th>\n",
       "      <th>Best Params</th>\n",
       "    </tr>\n",
       "  </thead>\n",
       "  <tbody>\n",
       "    <tr>\n",
       "      <th>0</th>\n",
       "      <td>Linear SVM</td>\n",
       "      <td>0.88</td>\n",
       "      <td>None</td>\n",
       "    </tr>\n",
       "    <tr>\n",
       "      <th>1</th>\n",
       "      <td>Best RBF SVM</td>\n",
       "      <td>0.94</td>\n",
       "      <td>{'C': 10, 'gamma': 0.1}</td>\n",
       "    </tr>\n",
       "  </tbody>\n",
       "</table>\n",
       "</div>"
      ],
      "text/plain": [
       "          Model  Accuracy              Best Params\n",
       "0    Linear SVM      0.88                     None\n",
       "1  Best RBF SVM      0.94  {'C': 10, 'gamma': 0.1}"
      ]
     },
     "execution_count": 4,
     "metadata": {},
     "output_type": "execute_result"
    }
   ],
   "source": [
    "# Re-run after reset\n",
    "\n",
    "import numpy as np\n",
    "import matplotlib.pyplot as plt\n",
    "from sklearn.datasets import make_classification\n",
    "from sklearn.model_selection import train_test_split, GridSearchCV, StratifiedKFold\n",
    "from sklearn.preprocessing import StandardScaler\n",
    "from sklearn.svm import SVC\n",
    "from sklearn.metrics import accuracy_score, classification_report, confusion_matrix\n",
    "import pandas as pd\n",
    "\n",
    "# 1. Data Preparation\n",
    "X, y = make_classification(n_samples=500, n_features=5, n_informative=3, n_redundant=0,\n",
    "                           n_classes=2, weights=[0.6, 0.4], random_state=42)\n",
    "\n",
    "X_train, X_test, y_train, y_test = train_test_split(X, y, test_size=0.3,\n",
    "                                                    stratify=y, random_state=42)\n",
    "\n",
    "# Feature scaling (important for SVM)\n",
    "scaler = StandardScaler()\n",
    "X_train_scaled = scaler.fit_transform(X_train)\n",
    "X_test_scaled = scaler.transform(X_test)\n",
    "\n",
    "# 2. Baseline Model (Linear kernel)\n",
    "svm_linear = SVC(kernel=\"linear\", C=1, random_state=42)\n",
    "svm_linear.fit(X_train_scaled, y_train)\n",
    "y_pred_baseline = svm_linear.predict(X_test_scaled)\n",
    "baseline_acc = accuracy_score(y_test, y_pred_baseline)\n",
    "\n",
    "# 3. Hyperparameter Tuning with RBF kernel\n",
    "param_grid = {\n",
    "    \"C\": [0.1, 1, 10],\n",
    "    \"gamma\": [0.01, 0.1, 1]\n",
    "}\n",
    "cv = StratifiedKFold(n_splits=5, shuffle=True, random_state=42)\n",
    "grid = GridSearchCV(SVC(kernel=\"rbf\"), param_grid, cv=cv, scoring=\"accuracy\", n_jobs=-1)\n",
    "grid.fit(X_train_scaled, y_train)\n",
    "\n",
    "best_svm = grid.best_estimator_\n",
    "y_pred_best = best_svm.predict(X_test_scaled)\n",
    "best_acc = accuracy_score(y_test, y_pred_best)\n",
    "\n",
    "# 4. Evaluation results\n",
    "baseline_report = classification_report(y_test, y_pred_baseline)\n",
    "best_report = classification_report(y_test, y_pred_best)\n",
    "\n",
    "cm_baseline = confusion_matrix(y_test, y_pred_baseline)\n",
    "cm_best = confusion_matrix(y_test, y_pred_best)\n",
    "\n",
    "results_df = pd.DataFrame({\n",
    "    \"Model\": [\"Linear SVM\", \"Best RBF SVM\"],\n",
    "    \"Accuracy\": [baseline_acc, best_acc],\n",
    "    \"Best Params\": [None, grid.best_params_]\n",
    "})\n",
    "\n",
    "\n",
    "\n",
    "print(\"Baseline Linear SVM Classification Report:\\n\", baseline_report)\n",
    "print(\"Best RBF SVM Classification Report:\\n\", best_report)\n",
    "print(\"Confusion Matrix (Baseline):\\n\", cm_baseline)\n",
    "print(\"Confusion Matrix (Best RBF):\\n\", cm_best)\n",
    "\n",
    "results_df.head()"
   ]
  }
 ],
 "metadata": {
  "kernelspec": {
   "display_name": "Python 3",
   "language": "python",
   "name": "python3"
  },
  "language_info": {
   "codemirror_mode": {
    "name": "ipython",
    "version": 3
   },
   "file_extension": ".py",
   "mimetype": "text/x-python",
   "name": "python",
   "nbconvert_exporter": "python",
   "pygments_lexer": "ipython3",
   "version": "3.12.0"
  }
 },
 "nbformat": 4,
 "nbformat_minor": 5
}
