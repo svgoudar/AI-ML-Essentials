{
 "cells": [
  {
   "cell_type": "markdown",
   "id": "ef48ad9e",
   "metadata": {},
   "source": []
  },
  {
   "cell_type": "markdown",
   "id": "4124a563",
   "metadata": {},
   "source": [
    "# Silhouette Clustering\n",
    "\n",
    "Silhouette is a **metric to evaluate how well your clustering has performed**. It doesn’t create clusters itself, but measures the **quality of clusters** obtained by a clustering algorithm (like K-Means, DBSCAN, etc.).\n",
    "\n",
    "It answers two questions for each data point:\n",
    "\n",
    "1. **How close is this point to its own cluster?** (cohesion)\n",
    "2. **How far is this point from other clusters?** (separation)\n",
    "\n",
    "A **high silhouette score** → the point is well matched to its cluster and poorly matched to others.\n",
    "\n",
    "---\n",
    "\n",
    "## **2. Mathematical Definition**\n",
    "\n",
    "For a data point $i$:\n",
    "\n",
    "1. $a(i)$ = average distance of $i$ to all other points in its **own cluster**\n",
    "2. $b(i)$ = minimum average distance of $i$ to points in any **other cluster** (the closest cluster that i is not in)\n",
    "\n",
    "The **silhouette score** $s(i)$ for the point $i$ is:\n",
    "\n",
    "$$\n",
    "s(i) = \\frac{b(i) - a(i)}{\\max(a(i), b(i))}\n",
    "$$\n",
    "\n",
    "* $s(i)$ ranges from **-1 to 1**:\n",
    "\n",
    "  * Close to **1** → well-clustered\n",
    "  * Around **0** → on the boundary between clusters\n",
    "  * Negative → may be in the wrong cluster\n",
    "\n",
    "The **average silhouette score** over all points is used to measure overall clustering quality.\n",
    "\n",
    "---\n",
    "\n",
    "## **3. Intuition**\n",
    "\n",
    "* If $a(i) \\ll b(i)$ → point is **closer to its cluster than others** → good clustering.\n",
    "* If $a(i) \\approx b(i)$ → point is **on the boundary**.\n",
    "* If $a(i) > b(i)$ → point may be **misclassified**.\n",
    "\n",
    "---\n",
    "\n",
    "## **4. Workflow**\n",
    "\n",
    "1. Perform clustering (e.g., K-Means, DBSCAN, Agglomerative).\n",
    "2. Compute silhouette score for **each data point**.\n",
    "3. Compute **average silhouette score** to evaluate the clustering.\n",
    "4. Optionally, plot **silhouette values** for all clusters to visually inspect cluster quality.\n",
    "\n",
    "---\n",
    "\n",
    "## **5. Python Example (K-Means)**\n"
   ]
  },
  {
   "cell_type": "code",
   "execution_count": 1,
   "id": "ec536a1d",
   "metadata": {},
   "outputs": [
    {
     "name": "stdout",
     "output_type": "stream",
     "text": [
      "Average Silhouette Score: 0.8480303059596955\n"
     ]
    },
    {
     "data": {
      "image/png": "[encoded data removed]",
      "text/plain": [
       "<Figure size 800x500 with 1 Axes>"
      ]
     },
     "metadata": {},
     "output_type": "display_data"
    }
   ],
   "source": [
    "import matplotlib.pyplot as plt\n",
    "from sklearn.datasets import make_blobs\n",
    "from sklearn.cluster import KMeans\n",
    "from sklearn.metrics import silhouette_score, silhouette_samples\n",
    "import numpy as np\n",
    "\n",
    "# Generate synthetic data\n",
    "X, y = make_blobs(n_samples=300, centers=3, cluster_std=1.0, random_state=42)\n",
    "\n",
    "# Fit K-Means\n",
    "kmeans = KMeans(n_clusters=3, random_state=42)\n",
    "labels = kmeans.fit_predict(X)\n",
    "\n",
    "# Silhouette score\n",
    "avg_score = silhouette_score(X, labels)\n",
    "print(\"Average Silhouette Score:\", avg_score)\n",
    "\n",
    "# Silhouette values per sample\n",
    "sil_values = silhouette_samples(X, labels)\n",
    "\n",
    "# Plotting silhouette\n",
    "plt.figure(figsize=(8, 5))\n",
    "y_lower = 0\n",
    "for i in range(3):\n",
    "    cluster_sil = sil_values[labels == i]\n",
    "    cluster_sil.sort()\n",
    "    y_upper = y_lower + len(cluster_sil)\n",
    "    plt.fill_betweenx(np.arange(y_lower, y_upper), 0, cluster_sil, alpha=0.7)\n",
    "    plt.text(-0.05, y_lower + 0.5*len(cluster_sil), str(i))\n",
    "    y_lower = y_upper + 10\n",
    "plt.xlabel(\"Silhouette coefficient\")\n",
    "plt.ylabel(\"Cluster\")\n",
    "plt.title(\"Silhouette plot for clusters\")\n",
    "plt.show()"
   ]
  },
  {
   "cell_type": "markdown",
   "id": "1508d879",
   "metadata": {},
   "source": [
    "\n",
    "✅ **Interpretation**:\n",
    "\n",
    "* Each cluster gets a band of silhouette values.\n",
    "* Longer bands → better cohesion.\n",
    "* Short or negative values → misfit points.\n",
    "\n"
   ]
  }
 ],
 "metadata": {
  "kernelspec": {
   "display_name": "Python 3",
   "language": "python",
   "name": "python3"
  },
  "language_info": {
   "codemirror_mode": {
    "name": "ipython",
    "version": 3
   },
   "file_extension": ".py",
   "mimetype": "text/x-python",
   "name": "python",
   "nbconvert_exporter": "python",
   "pygments_lexer": "ipython3",
   "version": "3.12.0"
  }
 },
 "nbformat": 4,
 "nbformat_minor": 5
}
