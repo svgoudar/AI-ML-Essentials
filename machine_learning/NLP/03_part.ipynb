{
 "cells": [
  {
   "cell_type": "markdown",
   "id": "541802d4",
   "metadata": {},
   "source": [
    "```{contents}\n",
    "```\n",
    "# Part-of-Speech (POS)\n",
    "\n",
    "**Part-of-speech tagging** is the process of labeling each word in a sentence with its **grammatical role**. These roles help the NLP model understand the structure and meaning of a sentence.\n",
    "\n",
    "**Example sentence:**\n",
    "\n",
    "```\n",
    "The cat sat on the mat.\n",
    "```\n",
    "\n",
    "POS tags:\n",
    "\n",
    "* `The` → Determiner (DT)\n",
    "* `cat` → Noun (NN)\n",
    "* `sat` → Verb (VBD)\n",
    "* `on` → Preposition (IN)\n",
    "* `the` → Determiner (DT)\n",
    "* `mat` → Noun (NN)\n",
    "\n",
    "---\n",
    "\n",
    "## **Common Parts of Speech in NLP**\n",
    "\n",
    "| POS                                | Description                                     | Example                     |\n",
    "| ---------------------------------- | ----------------------------------------------- | --------------------------- |\n",
    "| Noun (NN)                          | Person, place, thing, or idea                   | cat, city, happiness        |\n",
    "| Pronoun (PRP)                      | Replaces a noun                                 | he, she, it, they           |\n",
    "| Verb (VB, VBD, VBG, VBN, VBP, VBZ) | Action or state                                 | run, running, ran, is, have |\n",
    "| Adjective (JJ)                     | Describes a noun                                | beautiful, tall, red        |\n",
    "| Adverb (RB)                        | Describes a verb, adjective, or other adverb    | quickly, very, well         |\n",
    "| Determiner (DT)                    | Introduces a noun                               | the, a, this, those         |\n",
    "| Preposition (IN)                   | Shows relationship between noun and other words | in, on, at, by              |\n",
    "| Conjunction (CC)                   | Connects words or phrases                       | and, but, or                |\n",
    "| Interjection (UH)                  | Expresses emotion                               | wow!, oh!, hey!             |\n",
    "| Modal (MD)                         | Expresses possibility, ability, necessity       | can, should, must           |\n",
    "\n",
    "---\n",
    "\n",
    "## **Why POS Tagging is Important in NLP**\n",
    "\n",
    "1. **Syntax Understanding**\n",
    "\n",
    "   * Helps models understand sentence structure.\n",
    "   * Example: Differentiating between “run” as a noun vs. verb.\n",
    "\n",
    "2. **Named Entity Recognition (NER)**\n",
    "\n",
    "   * POS tags help identify proper nouns for detecting names, organizations, locations.\n",
    "\n",
    "3. **Sentiment Analysis**\n",
    "\n",
    "   * Adjectives and adverbs often carry sentiment; POS tagging helps isolate them.\n",
    "\n",
    "4. **Information Extraction**\n",
    "\n",
    "   * Helps extract subject, object, and action from a sentence.\n",
    "\n",
    "5. **Machine Translation**\n",
    "\n",
    "   * Understanding grammar helps generate accurate translations.\n",
    "\n",
    "---\n",
    "\n",
    "## **POS Tagging in NLP Tools**\n",
    "\n",
    "* **NLTK** and **spaCy** are popular libraries for POS tagging.\n",
    "\n",
    "### **Example with NLTK**"
   ]
  },
  {
   "cell_type": "code",
   "execution_count": 2,
   "id": "1751ed41",
   "metadata": {},
   "outputs": [
    {
     "name": "stderr",
     "output_type": "stream",
     "text": [
      "[nltk_data] Downloading package punkt to c:\\Users\\sangouda\\AppData\\Loc\n",
      "[nltk_data]     al\\Programs\\Python\\Python312\\nltk_data...\n",
      "[nltk_data]   Package punkt is already up-to-date!\n",
      "[nltk_data] Downloading package averaged_perceptron_tagger to c:\\Users\n",
      "[nltk_data]     \\sangouda\\AppData\\Local\\Programs\\Python\\Python312\\nltk\n",
      "[nltk_data]     _data...\n",
      "[nltk_data]   Package averaged_perceptron_tagger is already up-to-\n",
      "[nltk_data]       date!\n"
     ]
    },
    {
     "name": "stdout",
     "output_type": "stream",
     "text": [
      "[('The', 'DT'), ('cat', 'NN'), ('sat', 'VBD'), ('on', 'IN'), ('the', 'DT'), ('mat', 'NN'), ('.', '.')]\n",
      "The DET\n",
      "cat NOUN\n",
      "sat VERB\n",
      "on ADP\n",
      "the DET\n",
      "mat NOUN\n",
      ". PUNCT\n"
     ]
    }
   ],
   "source": [
    "import nltk\n",
    "nltk.download('punkt')\n",
    "nltk.download('averaged_perceptron_tagger')\n",
    "\n",
    "sentence = \"The cat sat on the mat.\"\n",
    "words = nltk.word_tokenize(sentence)\n",
    "pos_tags = nltk.pos_tag(words)\n",
    "print(pos_tags)\n",
    "\n",
    "\n",
    "import spacy\n",
    "nlp = spacy.load(\"en_core_web_sm\")\n",
    "doc = nlp(\"The cat sat on the mat.\")\n",
    "for token in doc:\n",
    "    print(token.text, token.pos_)\n"
   ]
  },
  {
   "cell_type": "markdown",
   "id": "06ad3047",
   "metadata": {},
   "source": [
    "---\n",
    "\n",
    "**Key Points**\n",
    "\n",
    "* POS tagging assigns grammatical roles to words.\n",
    "* Essential for **syntactic parsing, sentiment analysis, and text understanding**.\n",
    "* NLP libraries like **NLTK, spaCy, and StanfordNLP** make tagging easy and reliable.\n",
    "\n"
   ]
  }
 ],
 "metadata": {
  "kernelspec": {
   "display_name": "Python 3",
   "language": "python",
   "name": "python3"
  },
  "language_info": {
   "codemirror_mode": {
    "name": "ipython",
    "version": 3
   },
   "file_extension": ".py",
   "mimetype": "text/x-python",
   "name": "python",
   "nbconvert_exporter": "python",
   "pygments_lexer": "ipython3",
   "version": "3.12.0"
  }
 },
 "nbformat": 4,
 "nbformat_minor": 5
}
