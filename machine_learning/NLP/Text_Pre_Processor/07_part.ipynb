{
 "cells": [
  {
   "cell_type": "markdown",
   "id": "3ee18c8e",
   "metadata": {},
   "source": [
    " # Spelling Corrections\n",
    "---\n",
    "\n",
    "### **Approaches for Spelling Correction**\n",
    "\n",
    "1. **Dictionary-based Correction**: Compare each word against a known dictionary and correct the closest match.\n",
    "2. **Probabilistic Models**: Use the likelihood of words occurring in a language to suggest corrections (e.g., Peter Norvig’s algorithm).\n",
    "3. **Pre-built Libraries**: Python libraries like `TextBlob` and `pyspellchecker` handle corrections easily.\n",
    "\n",
    "---\n",
    "\n",
    "### **Python Demonstration**"
   ]
  },
  {
   "cell_type": "code",
   "execution_count": 1,
   "id": "bff04e96",
   "metadata": {},
   "outputs": [
    {
     "ename": "ModuleNotFoundError",
     "evalue": "No module named 'textblob'",
     "output_type": "error",
     "traceback": [
      "\u001b[31m---------------------------------------------------------------------------\u001b[39m",
      "\u001b[31mModuleNotFoundError\u001b[39m                       Traceback (most recent call last)",
      "\u001b[36mCell\u001b[39m\u001b[36m \u001b[39m\u001b[32mIn[1]\u001b[39m\u001b[32m, line 4\u001b[39m\n\u001b[32m      1\u001b[39m \u001b[38;5;66;03m# Install required libraries\u001b[39;00m\n\u001b[32m      2\u001b[39m \u001b[38;5;66;03m# !pip install textblob pyspellchecker\u001b[39;00m\n\u001b[32m----> \u001b[39m\u001b[32m4\u001b[39m \u001b[38;5;28;01mfrom\u001b[39;00m\u001b[38;5;250m \u001b[39m\u001b[34;01mtextblob\u001b[39;00m\u001b[38;5;250m \u001b[39m\u001b[38;5;28;01mimport\u001b[39;00m TextBlob\n\u001b[32m      5\u001b[39m \u001b[38;5;28;01mfrom\u001b[39;00m\u001b[38;5;250m \u001b[39m\u001b[34;01mspellchecker\u001b[39;00m\u001b[38;5;250m \u001b[39m\u001b[38;5;28;01mimport\u001b[39;00m SpellChecker\n\u001b[32m      7\u001b[39m \u001b[38;5;66;03m# Sample text with spelling mistakes\u001b[39;00m\n",
      "\u001b[31mModuleNotFoundError\u001b[39m: No module named 'textblob'"
     ]
    }
   ],
   "source": [
    "\n",
    "# Install required libraries\n",
    "# !pip install textblob pyspellchecker\n",
    "\n",
    "from textblob import TextBlob\n",
    "from spellchecker import SpellChecker\n",
    "\n",
    "# Sample text with spelling mistakes\n",
    "text = \"I loove piza and NLP is amaizing\"\n",
    "\n",
    "print(\"Original Text:\")\n",
    "print(text)\n",
    "\n",
    "# 1️⃣ Using TextBlob\n",
    "corrected_text_blob = str(TextBlob(text).correct())\n",
    "print(\"\\nCorrected Text using TextBlob:\")\n",
    "print(corrected_text_blob)\n",
    "\n",
    "# 2️⃣ Using pyspellchecker\n",
    "spell = SpellChecker()\n",
    "words = text.split()\n",
    "corrected_words = [spell.correction(word) for word in words]\n",
    "corrected_text_spellchecker = \" \".join(corrected_words)\n",
    "print(\"\\nCorrected Text using pyspellchecker:\")\n",
    "print(corrected_text_spellchecker)\n"
   ]
  },
  {
   "cell_type": "markdown",
   "id": "55dd0bd1",
   "metadata": {},
   "source": [
    "\n",
    "\n",
    "---\n",
    "\n",
    "### **✅ Output Example**\n",
    "\n",
    "**Original Text:**\n",
    "`I loove piza and NLP is amaizing`\n",
    "\n",
    "**Corrected Text using TextBlob:**\n",
    "`I love pizza and NLP is amazing`\n",
    "\n",
    "**Corrected Text using pyspellchecker:**\n",
    "`I love pizza and NLP is amazing`\n",
    "\n",
    "---\n",
    "\n",
    "**Key Notes:**\n",
    "\n",
    "* `TextBlob` works well for simple text and can handle context to some extent.\n",
    "* `pyspellchecker` is faster and good for large corpora but works mainly word-by-word.\n",
    "* Spelling correction is usually applied **after lowercasing, removing punctuation, and tokenization**.\n",
    "\n"
   ]
  }
 ],
 "metadata": {
  "kernelspec": {
   "display_name": "Python 3",
   "language": "python",
   "name": "python3"
  },
  "language_info": {
   "codemirror_mode": {
    "name": "ipython",
    "version": 3
   },
   "file_extension": ".py",
   "mimetype": "text/x-python",
   "name": "python",
   "nbconvert_exporter": "python",
   "pygments_lexer": "ipython3",
   "version": "3.12.0"
  }
 },
 "nbformat": 4,
 "nbformat_minor": 5
}
