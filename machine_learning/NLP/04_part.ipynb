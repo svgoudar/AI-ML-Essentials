{
 "cells": [
  {
   "cell_type": "markdown",
   "id": "60fd17d0",
   "metadata": {},
   "source": [
    "# Sentiment Analysis\n",
    "\n",
    "**Definition:**\n",
    "Sentiment Analysis (SA) is the process of **determining the sentiment or emotional tone** behind a piece of text.\n",
    "\n",
    "* Common labels: **Positive, Negative, Neutral**\n",
    "* Advanced: **Multi-class** (very positive, positive, neutral, negative, very negative)\n",
    "* Applications: Product reviews, social media monitoring, customer feedback, opinion mining.\n",
    "\n",
    "---\n",
    "\n",
    "## Key Concepts in Sentiment Analysis\n",
    "\n",
    "### **a) Text Preprocessing**\n",
    "\n",
    "Just like in general NLP, preprocessing is critical:\n",
    "\n",
    "1. **Tokenization** – Split sentences into words.\n",
    "2. **Lowercasing** – `\"Happy\"` → `\"happy\"`\n",
    "3. **Stopword Removal** – Remove non-informative words like `\"the\", \"is\"`.\n",
    "4. **Stemming/Lemmatization** – Reduce words to root form (`\"loved\" → \"love\"`).\n",
    "5. **Noise Removal** – Remove URLs, emojis, special characters, HTML tags.\n",
    "\n",
    "---\n",
    "\n",
    "### **b) Feature Representation**\n",
    "\n",
    "Convert text to numeric features that a model can understand:\n",
    "\n",
    "1. **Bag of Words (BoW)** – Count word occurrences.\n",
    "2. **TF-IDF** – Weight words by importance.\n",
    "3. **Word Embeddings** – Word2Vec, GloVe (dense vectors capturing meaning).\n",
    "4. **Sentence/Document Embeddings** – AvgWord2Vec, BERT embeddings for context.\n",
    "\n",
    "**Intuition:** The features should capture the words/phrases that express sentiment (`\"love\"`, `\"hate\"`, `\"amazing\"`, `\"terrible\"`).\n",
    "\n",
    "---\n",
    "\n",
    "### **c) Lexicon-based vs ML-based Approaches**\n",
    "\n",
    "1. **Lexicon-based Approach:**\n",
    "\n",
    "   * Uses predefined **lists of words** with positive/negative scores.\n",
    "   * Example: `\"good\"=+1, \"bad\"=-1`\n",
    "   * Simple, no training required, but limited understanding of context.\n",
    "\n",
    "2. **Machine Learning-based Approach:**\n",
    "\n",
    "   * Train a classifier (Logistic Regression, Naive Bayes, SVM, or deep learning models) on labeled data.\n",
    "   * Uses features like BoW, TF-IDF, or embeddings.\n",
    "\n",
    "3. **Deep Learning / Transformers:**\n",
    "\n",
    "   * RNNs, LSTMs, GRUs, or Transformers like **BERT** capture **word order and context**.\n",
    "   * Best for nuanced sentiment where context matters.\n",
    "\n",
    "---\n",
    "\n",
    "### **d) Handling Context & Negation**\n",
    "\n",
    "* **Negations** are tricky: `\"not good\"` → negative, `\"not bad\"` → positive.\n",
    "* Context-aware models (like BERT) handle these better than traditional methods.\n",
    "\n",
    "---\n",
    "\n",
    "### **e) Handling Sarcasm & Irony**\n",
    "\n",
    "* Hard for machines: `\"I just love waiting in traffic\"` → actually negative.\n",
    "* Requires **contextual understanding** and sometimes **external knowledge**.\n",
    "\n",
    "---\n",
    "\n",
    "### **f) Multi-level Sentiment**\n",
    "\n",
    "* **Aspect-based sentiment analysis (ABSA)**: Sentiment about specific aspects.\n",
    "\n",
    "  * `\"The food was great, but the service was terrible\"`\n",
    "  * Aspect: `food → positive`, `service → negative`\n",
    "\n",
    "---\n",
    "\n",
    "## **3️⃣ NLP Pipeline for Sentiment Analysis**\n",
    "\n",
    "1. **Data Collection** – Reviews, tweets, feedback.\n",
    "2. **Text Cleaning & Preprocessing** – Tokenization, stopwords, etc.\n",
    "3. **Feature Extraction** – BoW, TF-IDF, embeddings.\n",
    "4. **Modeling** – ML classifier, RNN/LSTM, Transformer.\n",
    "5. **Prediction & Evaluation** – Accuracy, F1-score, Confusion Matrix.\n",
    "\n",
    "---\n",
    "\n",
    "## **4️⃣ Evaluation Metrics**\n",
    "\n",
    "| Metric           | Purpose                              |\n",
    "| ---------------- | ------------------------------------ |\n",
    "| Accuracy         | % correctly classified               |\n",
    "| Precision        | True positives / Predicted positives |\n",
    "| Recall           | True positives / Actual positives    |\n",
    "| F1-score         | Harmonic mean of Precision & Recall  |\n",
    "| Confusion Matrix | Visualize TP, FP, TN, FN             |\n",
    "| ROC-AUC          | For binary sentiment tasks           |\n",
    "\n",
    "---\n",
    "\n",
    "**Example Sentiment Analysis Words**\n",
    "\n",
    "* **Positive:** `\"good\"`, `\"amazing\"`, `\"love\"`, `\"excellent\"`\n",
    "* **Negative:** `\"bad\"`, `\"terrible\"`, `\"hate\"`, `\"worst\"`\n",
    "* **Neutral:** `\"okay\"`, `\"fine\"`, `\"average\"`\n",
    "\n",
    "**Intuition:** Sentiment analysis detects **emotional polarity** of words, phrases, and ultimately the sentence/document."
   ]
  },
  {
   "cell_type": "markdown",
   "id": "9c73ec29",
   "metadata": {},
   "source": [
    "## Hands-On"
   ]
  },
  {
   "cell_type": "code",
   "execution_count": 5,
   "id": "5bfacd59",
   "metadata": {},
   "outputs": [
    {
     "name": "stderr",
     "output_type": "stream",
     "text": [
      "[nltk_data] Downloading package stopwords to c:\\Users\\sangouda\\AppData\n",
      "[nltk_data]     \\Local\\Programs\\Python\\Python312\\nltk_data...\n",
      "[nltk_data]   Package stopwords is already up-to-date!\n",
      "[nltk_data] Downloading package wordnet to c:\\Users\\sangouda\\AppData\\L\n",
      "[nltk_data]     ocal\\Programs\\Python\\Python312\\nltk_data...\n",
      "[nltk_data]   Package wordnet is already up-to-date!\n"
     ]
    }
   ],
   "source": [
    "# Install dependencies if needed\n",
    "# !pip install gensim sklearn nltk\n",
    "\n",
    "import pandas as pd\n",
    "import numpy as np\n",
    "import re\n",
    "import nltk\n",
    "from nltk.corpus import stopwords\n",
    "from nltk.stem import WordNetLemmatizer\n",
    "\n",
    "nltk.download('stopwords')\n",
    "nltk.download('wordnet')\n",
    "\n",
    "stop_words = set(stopwords.words('english'))\n",
    "lemmatizer = WordNetLemmatizer()\n",
    "\n",
    "# Sample dataset with more sentences\n",
    "data = {\n",
    "    \"text\": [\n",
    "        \"I love this product, it is amazing!\",\n",
    "        \"Absolutely fantastic experience\",\n",
    "        \"The movie was okay, not great\",\n",
    "        \"The food was good but the service was terrible\",\n",
    "        \"I hate waiting in long lines\",\n",
    "        \"This is the worst service I have ever had\",\n",
    "        \"The book was interesting and enjoyable\",\n",
    "        \"The hotel room was dirty and noisy\",\n",
    "        \"I am very happy with the purchase\",\n",
    "        \"The app keeps crashing, very frustrating\",\n",
    "        \"Customer support was very helpful\",\n",
    "        \"The experience was bad and disappointing\"\n",
    "    ],\n",
    "    \"sentiment\": [\"positive\", \"positive\", \"neutral\", \"neutral\", \"negative\", \"negative\",\n",
    "                  \"positive\", \"negative\", \"positive\", \"negative\", \"positive\", \"negative\"]\n",
    "}\n",
    "\n",
    "df = pd.DataFrame(data)\n"
   ]
  },
  {
   "cell_type": "markdown",
   "id": "f964a666",
   "metadata": {},
   "source": [
    "### **2️⃣ Preprocessing**"
   ]
  },
  {
   "cell_type": "code",
   "execution_count": 6,
   "id": "d2e3f4e7",
   "metadata": {},
   "outputs": [
    {
     "data": {
      "application/vnd.microsoft.datawrangler.viewer.v0+json": {
       "columns": [
        {
         "name": "index",
         "rawType": "int64",
         "type": "integer"
        },
        {
         "name": "text",
         "rawType": "object",
         "type": "string"
        },
        {
         "name": "sentiment",
         "rawType": "object",
         "type": "string"
        },
        {
         "name": "clean_text",
         "rawType": "object",
         "type": "unknown"
        }
       ],
       "ref": "7ec72c86-fe21-4dc4-8415-ddc2474d2197",
       "rows": [
        [
         "0",
         "I love this product, it is amazing!",
         "positive",
         "['love', 'product', 'amazing']"
        ],
        [
         "1",
         "Absolutely fantastic experience",
         "positive",
         "['absolutely', 'fantastic', 'experience']"
        ],
        [
         "2",
         "The movie was okay, not great",
         "neutral",
         "['movie', 'okay', 'great']"
        ],
        [
         "3",
         "The food was good but the service was terrible",
         "neutral",
         "['food', 'good', 'service', 'terrible']"
        ],
        [
         "4",
         "I hate waiting in long lines",
         "negative",
         "['hate', 'waiting', 'long', 'line']"
        ],
        [
         "5",
         "This is the worst service I have ever had",
         "negative",
         "['worst', 'service', 'ever']"
        ],
        [
         "6",
         "The book was interesting and enjoyable",
         "positive",
         "['book', 'interesting', 'enjoyable']"
        ],
        [
         "7",
         "The hotel room was dirty and noisy",
         "negative",
         "['hotel', 'room', 'dirty', 'noisy']"
        ],
        [
         "8",
         "I am very happy with the purchase",
         "positive",
         "['happy', 'purchase']"
        ],
        [
         "9",
         "The app keeps crashing, very frustrating",
         "negative",
         "['app', 'keep', 'crashing', 'frustrating']"
        ],
        [
         "10",
         "Customer support was very helpful",
         "positive",
         "['customer', 'support', 'helpful']"
        ],
        [
         "11",
         "The experience was bad and disappointing",
         "negative",
         "['experience', 'bad', 'disappointing']"
        ]
       ],
       "shape": {
        "columns": 3,
        "rows": 12
       }
      },
      "text/html": [
       "<div>\n",
       "<style scoped>\n",
       "    .dataframe tbody tr th:only-of-type {\n",
       "        vertical-align: middle;\n",
       "    }\n",
       "\n",
       "    .dataframe tbody tr th {\n",
       "        vertical-align: top;\n",
       "    }\n",
       "\n",
       "    .dataframe thead th {\n",
       "        text-align: right;\n",
       "    }\n",
       "</style>\n",
       "<table border=\"1\" class=\"dataframe\">\n",
       "  <thead>\n",
       "    <tr style=\"text-align: right;\">\n",
       "      <th></th>\n",
       "      <th>text</th>\n",
       "      <th>sentiment</th>\n",
       "      <th>clean_text</th>\n",
       "    </tr>\n",
       "  </thead>\n",
       "  <tbody>\n",
       "    <tr>\n",
       "      <th>0</th>\n",
       "      <td>I love this product, it is amazing!</td>\n",
       "      <td>positive</td>\n",
       "      <td>[love, product, amazing]</td>\n",
       "    </tr>\n",
       "    <tr>\n",
       "      <th>1</th>\n",
       "      <td>Absolutely fantastic experience</td>\n",
       "      <td>positive</td>\n",
       "      <td>[absolutely, fantastic, experience]</td>\n",
       "    </tr>\n",
       "    <tr>\n",
       "      <th>2</th>\n",
       "      <td>The movie was okay, not great</td>\n",
       "      <td>neutral</td>\n",
       "      <td>[movie, okay, great]</td>\n",
       "    </tr>\n",
       "    <tr>\n",
       "      <th>3</th>\n",
       "      <td>The food was good but the service was terrible</td>\n",
       "      <td>neutral</td>\n",
       "      <td>[food, good, service, terrible]</td>\n",
       "    </tr>\n",
       "    <tr>\n",
       "      <th>4</th>\n",
       "      <td>I hate waiting in long lines</td>\n",
       "      <td>negative</td>\n",
       "      <td>[hate, waiting, long, line]</td>\n",
       "    </tr>\n",
       "    <tr>\n",
       "      <th>5</th>\n",
       "      <td>This is the worst service I have ever had</td>\n",
       "      <td>negative</td>\n",
       "      <td>[worst, service, ever]</td>\n",
       "    </tr>\n",
       "    <tr>\n",
       "      <th>6</th>\n",
       "      <td>The book was interesting and enjoyable</td>\n",
       "      <td>positive</td>\n",
       "      <td>[book, interesting, enjoyable]</td>\n",
       "    </tr>\n",
       "    <tr>\n",
       "      <th>7</th>\n",
       "      <td>The hotel room was dirty and noisy</td>\n",
       "      <td>negative</td>\n",
       "      <td>[hotel, room, dirty, noisy]</td>\n",
       "    </tr>\n",
       "    <tr>\n",
       "      <th>8</th>\n",
       "      <td>I am very happy with the purchase</td>\n",
       "      <td>positive</td>\n",
       "      <td>[happy, purchase]</td>\n",
       "    </tr>\n",
       "    <tr>\n",
       "      <th>9</th>\n",
       "      <td>The app keeps crashing, very frustrating</td>\n",
       "      <td>negative</td>\n",
       "      <td>[app, keep, crashing, frustrating]</td>\n",
       "    </tr>\n",
       "    <tr>\n",
       "      <th>10</th>\n",
       "      <td>Customer support was very helpful</td>\n",
       "      <td>positive</td>\n",
       "      <td>[customer, support, helpful]</td>\n",
       "    </tr>\n",
       "    <tr>\n",
       "      <th>11</th>\n",
       "      <td>The experience was bad and disappointing</td>\n",
       "      <td>negative</td>\n",
       "      <td>[experience, bad, disappointing]</td>\n",
       "    </tr>\n",
       "  </tbody>\n",
       "</table>\n",
       "</div>"
      ],
      "text/plain": [
       "                                              text sentiment  \\\n",
       "0              I love this product, it is amazing!  positive   \n",
       "1                  Absolutely fantastic experience  positive   \n",
       "2                    The movie was okay, not great   neutral   \n",
       "3   The food was good but the service was terrible   neutral   \n",
       "4                     I hate waiting in long lines  negative   \n",
       "5        This is the worst service I have ever had  negative   \n",
       "6           The book was interesting and enjoyable  positive   \n",
       "7               The hotel room was dirty and noisy  negative   \n",
       "8                I am very happy with the purchase  positive   \n",
       "9         The app keeps crashing, very frustrating  negative   \n",
       "10               Customer support was very helpful  positive   \n",
       "11        The experience was bad and disappointing  negative   \n",
       "\n",
       "                             clean_text  \n",
       "0              [love, product, amazing]  \n",
       "1   [absolutely, fantastic, experience]  \n",
       "2                  [movie, okay, great]  \n",
       "3       [food, good, service, terrible]  \n",
       "4           [hate, waiting, long, line]  \n",
       "5                [worst, service, ever]  \n",
       "6        [book, interesting, enjoyable]  \n",
       "7           [hotel, room, dirty, noisy]  \n",
       "8                     [happy, purchase]  \n",
       "9    [app, keep, crashing, frustrating]  \n",
       "10         [customer, support, helpful]  \n",
       "11     [experience, bad, disappointing]  "
      ]
     },
     "execution_count": 6,
     "metadata": {},
     "output_type": "execute_result"
    }
   ],
   "source": [
    "def preprocess(text):\n",
    "    text = text.lower()\n",
    "    text = re.sub(r'[^a-z\\s]', '', text)\n",
    "    words = text.split()\n",
    "    words = [lemmatizer.lemmatize(w) for w in words if w not in stop_words]\n",
    "    return words\n",
    "\n",
    "df['clean_text'] = df['text'].apply(preprocess)\n",
    "df"
   ]
  },
  {
   "cell_type": "markdown",
   "id": "0b96101a",
   "metadata": {},
   "source": [
    "### Load Pre-trained GloVe Embeddings"
   ]
  },
  {
   "cell_type": "code",
   "execution_count": 7,
   "id": "c512e8e5",
   "metadata": {},
   "outputs": [
    {
     "name": "stdout",
     "output_type": "stream",
     "text": [
      "[==================================================] 100.0% 66.0/66.0MB downloaded\n"
     ]
    }
   ],
   "source": [
    "import gensim.downloader as api\n",
    "\n",
    "# Load pre-trained GloVe vectors (50-dim)\n",
    "w2v_model = api.load(\"glove-wiki-gigaword-50\")\n"
   ]
  },
  {
   "cell_type": "markdown",
   "id": "e626a4db",
   "metadata": {},
   "source": [
    "### **Compute AvgWord2Vec for Each Sentence**"
   ]
  },
  {
   "cell_type": "code",
   "execution_count": 8,
   "id": "4f5226c8",
   "metadata": {},
   "outputs": [],
   "source": [
    "def avg_word2vec(sentence, model):\n",
    "    vectors = [model[w] for w in sentence if w in model]\n",
    "    if len(vectors) == 0:\n",
    "        return np.zeros(model.vector_size)\n",
    "    return np.mean(vectors, axis=0)\n",
    "\n",
    "X_vec = np.array([avg_word2vec(s, w2v_model) for s in df['clean_text']])\n",
    "y = df['sentiment']\n"
   ]
  },
  {
   "cell_type": "markdown",
   "id": "4108dd0c",
   "metadata": {},
   "source": [
    "### **Train-Test Split and Classifier**"
   ]
  },
  {
   "cell_type": "code",
   "execution_count": 10,
   "id": "d48f93f4",
   "metadata": {},
   "outputs": [
    {
     "name": "stdout",
     "output_type": "stream",
     "text": [
      "Accuracy: 0.25\n",
      "\n",
      "Classification Report:\n",
      "               precision    recall  f1-score   support\n",
      "\n",
      "    negative       0.33      1.00      0.50         1\n",
      "     neutral       0.00      0.00      0.00         0\n",
      "    positive       0.00      0.00      0.00         3\n",
      "\n",
      "    accuracy                           0.25         4\n",
      "   macro avg       0.11      0.33      0.17         4\n",
      "weighted avg       0.08      0.25      0.12         4\n",
      "\n"
     ]
    }
   ],
   "source": [
    "from sklearn.model_selection import train_test_split\n",
    "from sklearn.linear_model import LogisticRegression\n",
    "from sklearn.metrics import accuracy_score, classification_report\n",
    "import warnings\n",
    "warnings.filterwarnings(\"ignore\")\n",
    "X_train, X_test, y_train, y_test = train_test_split(X_vec, y, test_size=0.3, random_state=42)\n",
    "\n",
    "# Logistic Regression\n",
    "model = LogisticRegression(max_iter=500)\n",
    "model.fit(X_train, y_train)\n",
    "\n",
    "# Predictions\n",
    "y_pred = model.predict(X_test)\n",
    "\n",
    "print(\"Accuracy:\", accuracy_score(y_test, y_pred))\n",
    "print(\"\\nClassification Report:\\n\", classification_report(y_test, y_pred))\n"
   ]
  },
  {
   "cell_type": "markdown",
   "id": "b7f86f09",
   "metadata": {},
   "source": [
    "### **5️⃣ Intuition**\n",
    "\n",
    "* **TF-IDF + Logistic Regression:**\n",
    "  Relies on **word importance**; good for smaller datasets.\n",
    "\n",
    "* **AvgWord2Vec + Logistic Regression:**\n",
    "  Relies on **semantic meaning of words**; captures similarity between words like `\"good\"` and `\"excellent\"`."
   ]
  },
  {
   "cell_type": "code",
   "execution_count": 12,
   "id": "6e8567fd",
   "metadata": {},
   "outputs": [
    {
     "data": {
      "image/png": "[encoded data removed]",
      "text/plain": [
       "<Figure size 800x600 with 1 Axes>"
      ]
     },
     "metadata": {},
     "output_type": "display_data"
    }
   ],
   "source": [
    "import matplotlib.pyplot as plt\n",
    "from sklearn.decomposition import PCA\n",
    "\n",
    "# Reduce 50-d embeddings to 2D\n",
    "pca = PCA(n_components=2)\n",
    "X_2d = pca.fit_transform(X_vec)\n",
    "\n",
    "# Map sentiment to colors\n",
    "colors = {'positive': 'green', 'negative': 'red', 'neutral': 'blue'}\n",
    "\n",
    "plt.figure(figsize=(8,6))\n",
    "for i, label in enumerate(y):\n",
    "    plt.scatter(X_2d[i,0], X_2d[i,1], color=colors[label], s=80, alpha=0.7)\n",
    "    plt.text(X_2d[i,0]+0.02, X_2d[i,1]+0.02, df['text'][i], fontsize=9)\n",
    "\n",
    "plt.title(\"Sentence Embeddings (AvgWord2Vec + PCA)\")\n",
    "plt.xlabel(\"PCA Dimension 1\")\n",
    "plt.ylabel(\"PCA Dimension 2\")\n",
    "plt.grid(True)\n",
    "plt.show()\n"
   ]
  }
 ],
 "metadata": {
  "kernelspec": {
   "display_name": "Python 3",
   "language": "python",
   "name": "python3"
  },
  "language_info": {
   "codemirror_mode": {
    "name": "ipython",
    "version": 3
   },
   "file_extension": ".py",
   "mimetype": "text/x-python",
   "name": "python",
   "nbconvert_exporter": "python",
   "pygments_lexer": "ipython3",
   "version": "3.12.0"
  }
 },
 "nbformat": 4,
 "nbformat_minor": 5
}
