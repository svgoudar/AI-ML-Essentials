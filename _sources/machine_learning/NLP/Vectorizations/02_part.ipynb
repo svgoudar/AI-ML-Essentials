{
 "cells": [
  {
   "cell_type": "markdown",
   "id": "e5d05e9d",
   "metadata": {},
   "source": [
    "```{contents}\n",
    "```\n",
    "\n",
    "# TF (Term Frequency)\n",
    "\n",
    "**Term Frequency (TF)** measures **how frequently a term (word) occurs in a document** relative to the total number of words in that document.\n",
    "\n",
    "Mathematically:\n",
    "\n",
    "$$\n",
    "\\text{TF}(t,d) = \\frac{\\text{Number of times term } t \\text{ appears in document } d}{\\text{Total number of terms in document } d}\n",
    "$$\n",
    "\n",
    "* $t$ → specific term (word)\n",
    "* $d$ → specific document\n",
    "\n",
    "It tells you **how important a word is in a document** based on its frequency.\n",
    "\n",
    "---\n",
    "\n",
    "### **2. Example**\n",
    "\n",
    "Suppose we have a document:\n",
    "\n",
    "```\n",
    "Document: \"I love NLP and I love Python\"\n",
    "```\n",
    "\n",
    "**Step 1: Count each word**\n",
    "\n",
    "| Word   | Count |\n",
    "| ------ | ----- |\n",
    "| I      | 2     |\n",
    "| love   | 2     |\n",
    "| NLP    | 1     |\n",
    "| and    | 1     |\n",
    "| Python | 1     |\n",
    "\n",
    "**Step 2: Total words = 7**\n",
    "\n",
    "**Step 3: Calculate TF**\n",
    "\n",
    "$$\n",
    "TF(\\text{\"I\"}) = 2 / 7 \\approx 0.285\n",
    "$$\n",
    "\n",
    "$$\n",
    "TF(\\text{\"love\"}) = 2 / 7 \\approx 0.285\n",
    "$$\n",
    "\n",
    "$$\n",
    "TF(\\text{\"NLP\"}) = 1 / 7 \\approx 0.142\n",
    "$$\n",
    "\n",
    "…and so on.\n",
    "\n",
    "---\n",
    "\n",
    "### **3. Key Points**\n",
    "\n",
    "* TF only considers **frequency in a single document**.\n",
    "* It **does not consider the importance across multiple documents** (that's where TF-IDF comes in).\n",
    "* Common words like \"the\", \"is\", \"and\" usually have high TF but may not be important semantically."
   ]
  },
  {
   "cell_type": "code",
   "execution_count": 1,
   "id": "7a1ab899",
   "metadata": {},
   "outputs": [
    {
     "name": "stdout",
     "output_type": "stream",
     "text": [
      "Vocabulary: ['and' 'love' 'nlp' 'python']\n",
      "Term counts: [[1 2 1 1]]\n",
      "Term Frequency (TF): [0.2 0.4 0.2 0.2]\n"
     ]
    }
   ],
   "source": [
    "from sklearn.feature_extraction.text import CountVectorizer\n",
    "\n",
    "# Sample document\n",
    "doc = [\"I love NLP and I love Python\"]\n",
    "\n",
    "# Initialize CountVectorizer (this calculates raw term counts)\n",
    "vectorizer = CountVectorizer()\n",
    "X = vectorizer.fit_transform(doc)\n",
    "\n",
    "# Feature names\n",
    "print(\"Vocabulary:\", vectorizer.get_feature_names_out())\n",
    "\n",
    "# Term counts\n",
    "print(\"Term counts:\", X.toarray())\n",
    "\n",
    "# Term Frequency (manually calculating)\n",
    "import numpy as np\n",
    "tf = X.toarray()[0] / np.sum(X.toarray()[0])\n",
    "print(\"Term Frequency (TF):\", tf)\n"
   ]
  },
  {
   "cell_type": "code",
   "execution_count": 2,
   "id": "9582f3ec",
   "metadata": {},
   "outputs": [
    {
     "name": "stdout",
     "output_type": "stream",
     "text": [
      "Vocabulary: ['and' 'love' 'nlp' 'python']\n",
      "Term counts: [[1 2 1 1]]\n",
      "Term Frequency (TF): [0.2 0.4 0.2 0.2]\n"
     ]
    }
   ],
   "source": [
    "from sklearn.feature_extraction.text import CountVectorizer\n",
    "\n",
    "# Sample document\n",
    "doc = [\"I love NLP and I love Python\"]\n",
    "\n",
    "# Initialize CountVectorizer (this calculates raw term counts)\n",
    "vectorizer = CountVectorizer()\n",
    "X = vectorizer.fit_transform(doc)\n",
    "\n",
    "# Feature names\n",
    "print(\"Vocabulary:\", vectorizer.get_feature_names_out())\n",
    "\n",
    "# Term counts\n",
    "print(\"Term counts:\", X.toarray())\n",
    "\n",
    "# Term Frequency (manually calculating)\n",
    "import numpy as np\n",
    "tf = X.toarray()[0] / np.sum(X.toarray()[0])\n",
    "print(\"Term Frequency (TF):\", tf)\n"
   ]
  }
 ],
 "metadata": {
  "kernelspec": {
   "display_name": "Python 3",
   "language": "python",
   "name": "python3"
  },
  "language_info": {
   "codemirror_mode": {
    "name": "ipython",
    "version": 3
   },
   "file_extension": ".py",
   "mimetype": "text/x-python",
   "name": "python",
   "nbconvert_exporter": "python",
   "pygments_lexer": "ipython3",
   "version": "3.12.0"
  }
 },
 "nbformat": 4,
 "nbformat_minor": 5
}
