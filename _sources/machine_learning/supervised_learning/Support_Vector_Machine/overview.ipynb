{
 "cells": [
  {
   "cell_type": "markdown",
   "id": "952e8652",
   "metadata": {},
   "source": []
  },
  {
   "cell_type": "markdown",
   "id": "5c064585",
   "metadata": {},
   "source": [
    "### SVM\n",
    "\n",
    "Support Vector Machine (SVM) is a supervised machine learning algorithm used for classification and regression. Its goal is to find the **optimal decision boundary (hyperplane)** that separates data points of different classes with the maximum possible margin.\n",
    "\n",
    "### Key ideas:\n",
    "\n",
    "1. **Hyperplane**: A line in 2D, a plane in 3D, or a higher-dimensional surface that divides classes.\n",
    "2. **Margin**: The distance between the hyperplane and the nearest data points from each class. SVM maximizes this margin.\n",
    "3. **Support Vectors**: The critical data points that lie closest to the hyperplane. They “support” the decision boundary.\n",
    "4. **Linear vs. Nonlinear separation**:\n",
    "\n",
    "   * If classes are linearly separable, SVM finds a straight hyperplane.\n",
    "   * If not, SVM uses the **kernel trick** (e.g., polynomial, RBF) to project data into higher dimensions where it becomes linearly separable.\n",
    "5. **Soft Margin**: Allows some misclassifications (controlled by parameter **C**) to balance margin size and error.\n",
    "6. **Applications**: Text classification, image recognition, bioinformatics (like gene classification), anomaly detection.\n",
    "\n",
    "### Advantages:\n",
    "\n",
    "* Effective in high-dimensional spaces.\n",
    "* Works well with clear margin of separation.\n",
    "* Memory efficient since only support vectors are used.\n",
    "\n",
    "### Limitations:\n",
    "\n",
    "* Training can be slow on very large datasets.\n",
    "* Choice of kernel and hyperparameters is crucial.\n",
    "* Less effective when classes overlap heavily.\n"
   ]
  }
 ],
 "metadata": {
  "language_info": {
   "name": "python"
  }
 },
 "nbformat": 4,
 "nbformat_minor": 5
}
