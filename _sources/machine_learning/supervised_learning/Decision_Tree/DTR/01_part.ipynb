{
 "cells": [
  {
   "cell_type": "markdown",
   "id": "a1cc4d35",
   "metadata": {},
   "source": [
    "```{contents}\n",
    "```"
   ]
  },
  {
   "cell_type": "markdown",
   "id": "fdfd765b",
   "metadata": {},
   "source": [
    "# Cost Functions\n",
    "\n",
    "## 1. **Mean Squared Error (MSE)**\n",
    "\n",
    "* The most common cost function.\n",
    "* At each split, the tree chooses the feature & threshold that **minimizes the variance of the target values**.\n",
    "\n",
    "$$\n",
    "MSE = \\frac{1}{n} \\sum_{i=1}^n (y_i - \\hat{y})^2\n",
    "$$\n",
    "\n",
    "* Here:\n",
    "\n",
    "  * $y_i$ = actual value\n",
    "  * $\\hat{y}$ = predicted value (mean of samples in that leaf)\n",
    "  * $n$ = number of samples in the node\n",
    "\n",
    "👉 Minimizing MSE means nodes will group data where target values are close together.\n",
    "\n",
    "---\n",
    "\n",
    "## 2. **Mean Absolute Error (MAE)**\n",
    "\n",
    "$$\n",
    "MAE = \\frac{1}{n} \\sum_{i=1}^n |y_i - \\hat{y}|\n",
    "$$\n",
    "\n",
    "* Uses the **median** of values in the node for prediction (instead of mean).\n",
    "* More **robust to outliers** than MSE.\n",
    "\n",
    "---\n",
    "\n",
    "## 3. **Friedman’s Mean Squared Error (Friedman MSE)**\n",
    "\n",
    "* A variation of MSE used in `scikit-learn`.\n",
    "* Adds a correction term to reduce bias when splitting nodes, especially useful in **gradient boosting** trees.\n",
    "\n",
    "---\n",
    "\n",
    "## 4. **Poisson (for count regression)**\n",
    "\n",
    "* For target values that represent **counts** (non-negative integers).\n",
    "* Cost function is based on **Poisson deviance**:\n",
    "\n",
    "$$\n",
    "D(y, \\hat{y}) = 2 \\sum_{i=1}^n \\left( y_i \\log \\frac{y_i}{\\hat{y}_i} - (y_i - \\hat{y}_i) \\right)\n",
    "$$\n",
    "\n",
    "---\n",
    "\n",
    "**Summary**\n",
    "\n",
    "* **MSE** → default, sensitive to outliers, good for general regression.\n",
    "* **MAE** → robust to outliers, gives median-based predictions.\n",
    "* **Friedman MSE** → specialized, often used in ensembles.\n",
    "* **Poisson** → best for count-based data.\n"
   ]
  }
 ],
 "metadata": {
  "language_info": {
   "name": "python"
  }
 },
 "nbformat": 4,
 "nbformat_minor": 5
}
