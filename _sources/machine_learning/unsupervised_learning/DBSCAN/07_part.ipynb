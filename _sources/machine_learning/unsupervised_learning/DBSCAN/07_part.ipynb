{
 "cells": [
  {
   "cell_type": "markdown",
   "id": "6b6825c4",
   "metadata": {},
   "source": [
    "## Problem Statement"
   ]
  },
  {
   "cell_type": "code",
   "execution_count": 5,
   "id": "8bba3002",
   "metadata": {},
   "outputs": [],
   "source": [
    "import pandas as pd\n",
    "\n",
    "df = pd.read_csv(\"https://raw.githubusercontent.com/svgoudar/datasets/refs/heads/main/financial_anomaly_data.csv\")"
   ]
  },
  {
   "cell_type": "code",
   "execution_count": 6,
   "id": "9feb1766",
   "metadata": {},
   "outputs": [
    {
     "data": {
      "application/vnd.microsoft.datawrangler.viewer.v0+json": {
       "columns": [
        {
         "name": "index",
         "rawType": "int64",
         "type": "integer"
        },
        {
         "name": "Timestamp",
         "rawType": "object",
         "type": "string"
        },
        {
         "name": "TransactionID",
         "rawType": "object",
         "type": "string"
        },
        {
         "name": "AccountID",
         "rawType": "object",
         "type": "string"
        },
        {
         "name": "Amount",
         "rawType": "float64",
         "type": "float"
        },
        {
         "name": "Merchant",
         "rawType": "object",
         "type": "string"
        },
        {
         "name": "TransactionType",
         "rawType": "object",
         "type": "string"
        },
        {
         "name": "Location",
         "rawType": "object",
         "type": "string"
        }
       ],
       "ref": "b0736cb4-58af-4b17-be40-d8812406c6f7",
       "rows": [
        [
         "0",
         "01-01-2023 08:00",
         "TXN1127",
         "ACC4",
         "95071.92",
         "MerchantH",
         "Purchase",
         "Tokyo"
        ],
        [
         "1",
         "01-01-2023 08:01",
         "TXN1639",
         "ACC10",
         "15607.89",
         "MerchantH",
         "Purchase",
         "London"
        ],
        [
         "2",
         "01-01-2023 08:02",
         "TXN872",
         "ACC8",
         "65092.34",
         "MerchantE",
         "Withdrawal",
         "London"
        ],
        [
         "3",
         "01-01-2023 08:03",
         "TXN1438",
         "ACC6",
         "87.87",
         "MerchantE",
         "Purchase",
         "London"
        ],
        [
         "4",
         "01-01-2023 08:04",
         "TXN1338",
         "ACC6",
         "716.56",
         "MerchantI",
         "Purchase",
         "Los Angeles"
        ]
       ],
       "shape": {
        "columns": 7,
        "rows": 5
       }
      },
      "text/html": [
       "<div>\n",
       "<style scoped>\n",
       "    .dataframe tbody tr th:only-of-type {\n",
       "        vertical-align: middle;\n",
       "    }\n",
       "\n",
       "    .dataframe tbody tr th {\n",
       "        vertical-align: top;\n",
       "    }\n",
       "\n",
       "    .dataframe thead th {\n",
       "        text-align: right;\n",
       "    }\n",
       "</style>\n",
       "<table border=\"1\" class=\"dataframe\">\n",
       "  <thead>\n",
       "    <tr style=\"text-align: right;\">\n",
       "      <th></th>\n",
       "      <th>Timestamp</th>\n",
       "      <th>TransactionID</th>\n",
       "      <th>AccountID</th>\n",
       "      <th>Amount</th>\n",
       "      <th>Merchant</th>\n",
       "      <th>TransactionType</th>\n",
       "      <th>Location</th>\n",
       "    </tr>\n",
       "  </thead>\n",
       "  <tbody>\n",
       "    <tr>\n",
       "      <th>0</th>\n",
       "      <td>01-01-2023 08:00</td>\n",
       "      <td>TXN1127</td>\n",
       "      <td>ACC4</td>\n",
       "      <td>95071.92</td>\n",
       "      <td>MerchantH</td>\n",
       "      <td>Purchase</td>\n",
       "      <td>Tokyo</td>\n",
       "    </tr>\n",
       "    <tr>\n",
       "      <th>1</th>\n",
       "      <td>01-01-2023 08:01</td>\n",
       "      <td>TXN1639</td>\n",
       "      <td>ACC10</td>\n",
       "      <td>15607.89</td>\n",
       "      <td>MerchantH</td>\n",
       "      <td>Purchase</td>\n",
       "      <td>London</td>\n",
       "    </tr>\n",
       "    <tr>\n",
       "      <th>2</th>\n",
       "      <td>01-01-2023 08:02</td>\n",
       "      <td>TXN872</td>\n",
       "      <td>ACC8</td>\n",
       "      <td>65092.34</td>\n",
       "      <td>MerchantE</td>\n",
       "      <td>Withdrawal</td>\n",
       "      <td>London</td>\n",
       "    </tr>\n",
       "    <tr>\n",
       "      <th>3</th>\n",
       "      <td>01-01-2023 08:03</td>\n",
       "      <td>TXN1438</td>\n",
       "      <td>ACC6</td>\n",
       "      <td>87.87</td>\n",
       "      <td>MerchantE</td>\n",
       "      <td>Purchase</td>\n",
       "      <td>London</td>\n",
       "    </tr>\n",
       "    <tr>\n",
       "      <th>4</th>\n",
       "      <td>01-01-2023 08:04</td>\n",
       "      <td>TXN1338</td>\n",
       "      <td>ACC6</td>\n",
       "      <td>716.56</td>\n",
       "      <td>MerchantI</td>\n",
       "      <td>Purchase</td>\n",
       "      <td>Los Angeles</td>\n",
       "    </tr>\n",
       "  </tbody>\n",
       "</table>\n",
       "</div>"
      ],
      "text/plain": [
       "          Timestamp TransactionID AccountID    Amount   Merchant  \\\n",
       "0  01-01-2023 08:00       TXN1127      ACC4  95071.92  MerchantH   \n",
       "1  01-01-2023 08:01       TXN1639     ACC10  15607.89  MerchantH   \n",
       "2  01-01-2023 08:02        TXN872      ACC8  65092.34  MerchantE   \n",
       "3  01-01-2023 08:03       TXN1438      ACC6     87.87  MerchantE   \n",
       "4  01-01-2023 08:04       TXN1338      ACC6    716.56  MerchantI   \n",
       "\n",
       "  TransactionType     Location  \n",
       "0        Purchase        Tokyo  \n",
       "1        Purchase       London  \n",
       "2      Withdrawal       London  \n",
       "3        Purchase       London  \n",
       "4        Purchase  Los Angeles  "
      ]
     },
     "execution_count": 6,
     "metadata": {},
     "output_type": "execute_result"
    }
   ],
   "source": [
    "df.head()"
   ]
  },
  {
   "cell_type": "markdown",
   "id": "d7baa405",
   "metadata": {},
   "source": [
    "\n",
    "Here’s a good Kaggle dataset for anomaly detection + starter code sketch using DBSCAN.\n",
    "\n",
    "---\n",
    "\n",
    "## Dataset recommendation\n",
    "\n",
    "**“Network Traffic Anomaly Detection Dataset”** on Kaggle. ([Kaggle][1])\n",
    "\n",
    "* Contains network traffic data.\n",
    "* Useful for detecting anomalous patterns (e.g. intrusion, unusual behaviour). ([Kaggle][1])\n",
    "\n",
    "Another option: **Financial Anomaly Data** on Kaggle. ([Kaggle][2])\n",
    "\n",
    "---\n",
    "\n",
    "## Starter code sketch (in Python) using DBSCAN\n"
   ]
  },
  {
   "cell_type": "code",
   "execution_count": null,
   "id": "c2b8e5a4",
   "metadata": {},
   "outputs": [],
   "source": [
    "\n",
    "import pandas as pd\n",
    "from sklearn.preprocessing import StandardScaler\n",
    "from sklearn.cluster import DBSCAN\n",
    "from sklearn.metrics import classification_report, confusion_matrix\n",
    "\n",
    "# 1. Load dataset\n",
    "df = pd.read_csv('path/to/network_traffic_anomaly_detection.csv')\n",
    "\n",
    "# 2. Preprocess\n",
    "#    - handle missing values\n",
    "#    - select relevant features\n",
    "#    - encode categorical variables (if any)\n",
    "#    - scale features (DBSCAN is distance-based)\n",
    "features = ['feature1', 'feature2', 'feature3', ...]  # replace\n",
    "X = df[features].copy()\n",
    "X.fillna(X.mean(), inplace=True)\n",
    "# if categorical:\n",
    "#   X = pd.get_dummies(X, columns=['cat_feature1', ...])\n",
    "scaler = StandardScaler()\n",
    "X_scaled = scaler.fit_transform(X)\n",
    "\n",
    "# 3. DBSCAN clustering\n",
    "eps = 0.5   # to tune\n",
    "min_samples = 5  # to tune\n",
    "db = DBSCAN(eps=eps, min_samples=min_samples, metric='euclidean')\n",
    "labels = db.fit_predict(X_scaled)\n",
    "\n",
    "# 4. Mark anomalies\n",
    "# Usually noise = label -1 in DBSCAN\n",
    "df['cluster'] = labels\n",
    "df['anomaly'] = (labels == -1).astype(int)\n",
    "\n",
    "# 5. If you have true labels, evaluate\n",
    "if 'true_label' in df.columns:\n",
    "    y_true = df['true_label']\n",
    "    y_pred = df['anomaly']\n",
    "    print(classification_report(y_true, y_pred))\n",
    "    print(confusion_matrix(y_true, y_pred))\n",
    "\n",
    "# 6. Explore clusters\n",
    "# Count number of anomalies\n",
    "print(\"Anomalies detected:\", sum(df['anomaly']))\n",
    "print(\"Clusters found:\", len(set(labels)) - (1 if -1 in labels else 0))\n"
   ]
  }
 ],
 "metadata": {
  "kernelspec": {
   "display_name": "Python 3",
   "language": "python",
   "name": "python3"
  },
  "language_info": {
   "codemirror_mode": {
    "name": "ipython",
    "version": 3
   },
   "file_extension": ".py",
   "mimetype": "text/x-python",
   "name": "python",
   "nbconvert_exporter": "python",
   "pygments_lexer": "ipython3",
   "version": "3.12.0"
  }
 },
 "nbformat": 4,
 "nbformat_minor": 5
}
